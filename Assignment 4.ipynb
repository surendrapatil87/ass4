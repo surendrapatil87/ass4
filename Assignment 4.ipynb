{
 "cells": [
  {
   "cell_type": "markdown",
   "id": "4af15de4",
   "metadata": {},
   "source": [
    "# 1. What exactly is []?"
   ]
  },
  {
   "cell_type": "markdown",
   "id": "8c86eb35",
   "metadata": {},
   "source": [
    "Ans=\n",
    "\n",
    "The empty list value, which is a list value that contains no items"
   ]
  },
  {
   "cell_type": "markdown",
   "id": "7700aa7e",
   "metadata": {},
   "source": [
    "# 2. In a list of values stored in a variable called spam, how would you assign the value 'hello' as the third value? (Assume [2, 4, 6, 8, 10] are in spam.)"
   ]
  },
  {
   "cell_type": "markdown",
   "id": "1d877901",
   "metadata": {},
   "source": [
    "Ans=\n",
    "spam[2] = 'hello'"
   ]
  },
  {
   "cell_type": "code",
   "execution_count": 1,
   "id": "fcb5c875",
   "metadata": {},
   "outputs": [
    {
     "data": {
      "text/plain": [
       "[2, 4, 'hello', 8, 10]"
      ]
     },
     "execution_count": 1,
     "metadata": {},
     "output_type": "execute_result"
    }
   ],
   "source": [
    "spam = [2, 4, 6, 8, 10]\n",
    "spam[2] = 'hello' \n",
    "spam"
   ]
  },
  {
   "cell_type": "markdown",
   "id": "e6d2f9b3",
   "metadata": {},
   "source": [
    "let's pretend the spam includes the list ['a', 'b', 'c', 'd'] for the next three queries."
   ]
  },
  {
   "cell_type": "markdown",
   "id": "44d5ab08",
   "metadata": {},
   "source": [
    "# 3. What is the value of spam[int(int('3' * 2) / 11)]?"
   ]
  },
  {
   "cell_type": "markdown",
   "id": "baadd5dd",
   "metadata": {},
   "source": [
    "Ans="
   ]
  },
  {
   "cell_type": "code",
   "execution_count": 2,
   "id": "d5c65d2d",
   "metadata": {},
   "outputs": [
    {
     "data": {
      "text/plain": [
       "'d'"
      ]
     },
     "execution_count": 2,
     "metadata": {},
     "output_type": "execute_result"
    }
   ],
   "source": [
    "spam = ['a', 'b', 'c', 'd']\n",
    "spam[int(int('3' * 2) / 11)]"
   ]
  },
  {
   "cell_type": "markdown",
   "id": "dd3803a3",
   "metadata": {},
   "source": [
    "# 4. What is the value of spam[-1]?"
   ]
  },
  {
   "cell_type": "markdown",
   "id": "20aa94a4",
   "metadata": {},
   "source": [
    "Ans=\n"
   ]
  },
  {
   "cell_type": "code",
   "execution_count": 3,
   "id": "01197837",
   "metadata": {},
   "outputs": [
    {
     "data": {
      "text/plain": [
       "'d'"
      ]
     },
     "execution_count": 3,
     "metadata": {},
     "output_type": "execute_result"
    }
   ],
   "source": [
    "spam[-1]"
   ]
  },
  {
   "cell_type": "markdown",
   "id": "c9e98043",
   "metadata": {},
   "source": [
    "# 5. What is the value of spam[:2]?"
   ]
  },
  {
   "cell_type": "markdown",
   "id": "3502bf10",
   "metadata": {},
   "source": [
    "Ans="
   ]
  },
  {
   "cell_type": "code",
   "execution_count": 4,
   "id": "0c506822",
   "metadata": {},
   "outputs": [
    {
     "data": {
      "text/plain": [
       "['a', 'b']"
      ]
     },
     "execution_count": 4,
     "metadata": {},
     "output_type": "execute_result"
    }
   ],
   "source": [
    "spam[:2]"
   ]
  },
  {
   "cell_type": "markdown",
   "id": "113f3b75",
   "metadata": {},
   "source": [
    "Let's pretend bacon has the list [3.14, 'cat,' 11, 'cat,' True] for the next three questions."
   ]
  },
  {
   "cell_type": "markdown",
   "id": "a8fed0c5",
   "metadata": {},
   "source": [
    "\n",
    "# 6. What is the value of bacon.index('cat')?"
   ]
  },
  {
   "cell_type": "markdown",
   "id": "e921971b",
   "metadata": {},
   "source": [
    "Ans="
   ]
  },
  {
   "cell_type": "code",
   "execution_count": 12,
   "id": "6402f87a",
   "metadata": {},
   "outputs": [],
   "source": [
    "bacon = [3.14, 'cat', 11, 'cat',True]"
   ]
  },
  {
   "cell_type": "code",
   "execution_count": 13,
   "id": "75246fff",
   "metadata": {},
   "outputs": [
    {
     "data": {
      "text/plain": [
       "1"
      ]
     },
     "execution_count": 13,
     "metadata": {},
     "output_type": "execute_result"
    }
   ],
   "source": [
    "bacon.index('cat')"
   ]
  },
  {
   "cell_type": "markdown",
   "id": "ac230824",
   "metadata": {},
   "source": [
    "\n",
    "# 7. How does bacon.append(99) change the look of the list value in bacon?"
   ]
  },
  {
   "cell_type": "markdown",
   "id": "69c620d9",
   "metadata": {},
   "source": [
    "Ans="
   ]
  },
  {
   "cell_type": "code",
   "execution_count": 14,
   "id": "9fa97966",
   "metadata": {},
   "outputs": [
    {
     "data": {
      "text/plain": [
       "[3.14, 'cat', 11, 'cat', True, 99]"
      ]
     },
     "execution_count": 14,
     "metadata": {},
     "output_type": "execute_result"
    }
   ],
   "source": [
    "bacon.append(99)\n",
    "bacon"
   ]
  },
  {
   "cell_type": "markdown",
   "id": "1990894a",
   "metadata": {},
   "source": [
    "# 8. How does bacon.remove('cat') change the look of the list in bacon?"
   ]
  },
  {
   "cell_type": "code",
   "execution_count": 15,
   "id": "65381264",
   "metadata": {},
   "outputs": [],
   "source": [
    "bacon.remove('cat') "
   ]
  },
  {
   "cell_type": "code",
   "execution_count": 16,
   "id": "f60529fe",
   "metadata": {},
   "outputs": [
    {
     "data": {
      "text/plain": [
       "[3.14, 11, 'cat', True, 99]"
      ]
     },
     "execution_count": 16,
     "metadata": {},
     "output_type": "execute_result"
    }
   ],
   "source": [
    "bacon"
   ]
  },
  {
   "cell_type": "markdown",
   "id": "2bf55f3d",
   "metadata": {},
   "source": [
    "# 9. What are the list concatenation and list replication operators?"
   ]
  },
  {
   "cell_type": "markdown",
   "id": "5f8aafe7",
   "metadata": {},
   "source": [
    "Ans=\n",
    "operator for list concatenation is +, while the operator for replication is *."
   ]
  },
  {
   "cell_type": "markdown",
   "id": "4e8ccf5c",
   "metadata": {},
   "source": [
    "# 10. What is difference between the list methods append() and insert()?"
   ]
  },
  {
   "cell_type": "markdown",
   "id": "c2affcf7",
   "metadata": {},
   "source": [
    "Ans=\n",
    "While append() will add values only to the end of a list, insert() can add them anywhere in the list"
   ]
  },
  {
   "cell_type": "markdown",
   "id": "4ba3d11d",
   "metadata": {},
   "source": [
    "# 11. What are the two methods for removing items from a list?"
   ]
  },
  {
   "cell_type": "markdown",
   "id": "2c755ce0",
   "metadata": {},
   "source": [
    "Ans=\n",
    "The del statement and the remove() list method are two ways to remove values from a list"
   ]
  },
  {
   "cell_type": "markdown",
   "id": "804fd22c",
   "metadata": {},
   "source": [
    "# 12. Describe how list values and string values are identical.\n"
   ]
  },
  {
   "cell_type": "markdown",
   "id": "0a6ad848",
   "metadata": {},
   "source": [
    "Ans=\n",
    "Both lists and strings can be passed to len(), have indexes and slices, be used in for loops, be concatenated or replicated, and be used with the in and not in operators."
   ]
  },
  {
   "cell_type": "markdown",
   "id": "0c6ba0b9",
   "metadata": {},
   "source": [
    "# 13. What's the difference between tuples and lists?"
   ]
  },
  {
   "cell_type": "markdown",
   "id": "e254cb47",
   "metadata": {},
   "source": [
    "Ans=\n",
    "Lists are mutable; they can have values added, removed, or changed. Tuples are immutable; they cannot be changed at all. Also, tuples are written using parentheses, ( and ), while lists use the square brackets, [ and ]."
   ]
  },
  {
   "cell_type": "markdown",
   "id": "aadd0336",
   "metadata": {},
   "source": [
    "# 14. How do you type a tuple value that only contains the integer 42?"
   ]
  },
  {
   "cell_type": "markdown",
   "id": "908d7be1",
   "metadata": {},
   "source": [
    "Ans=\n",
    "(42)\n"
   ]
  },
  {
   "cell_type": "markdown",
   "id": "04905d76",
   "metadata": {},
   "source": [
    "# 15. How do you get a list value's tuple form? How do you get a tuple value's list form?"
   ]
  },
  {
   "cell_type": "markdown",
   "id": "854de714",
   "metadata": {},
   "source": [
    "Ans=\n",
    "The tuple() and list() functions, respectively\n"
   ]
  },
  {
   "cell_type": "markdown",
   "id": "b4c4783c",
   "metadata": {},
   "source": [
    "# 16. Variables that \"contain\" list values are not necessarily lists themselves. Instead, what do they contain?"
   ]
  },
  {
   "cell_type": "markdown",
   "id": "7127d483",
   "metadata": {},
   "source": [
    "Ans=\n",
    "They contain references to list values\n"
   ]
  },
  {
   "cell_type": "markdown",
   "id": "48d71304",
   "metadata": {},
   "source": [
    "# 17. How do you distinguish between copy.copy() and copy.deepcopy()?"
   ]
  },
  {
   "cell_type": "markdown",
   "id": "c2b52cec",
   "metadata": {},
   "source": [
    "The copy.copy() function will do a shallow copy of a list, while the copy.deepcopy() function will do a deep copy of a list. That is, only copy.deepcopy() will duplicate any lists inside the list."
   ]
  },
  {
   "cell_type": "code",
   "execution_count": null,
   "id": "df4a1301",
   "metadata": {},
   "outputs": [],
   "source": []
  }
 ],
 "metadata": {
  "kernelspec": {
   "display_name": "Python 3 (ipykernel)",
   "language": "python",
   "name": "python3"
  },
  "language_info": {
   "codemirror_mode": {
    "name": "ipython",
    "version": 3
   },
   "file_extension": ".py",
   "mimetype": "text/x-python",
   "name": "python",
   "nbconvert_exporter": "python",
   "pygments_lexer": "ipython3",
   "version": "3.10.9"
  }
 },
 "nbformat": 4,
 "nbformat_minor": 5
}
